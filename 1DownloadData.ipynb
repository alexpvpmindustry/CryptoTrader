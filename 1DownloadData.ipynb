{
 "cells": [
  {
   "cell_type": "code",
   "execution_count": 1,
   "metadata": {},
   "outputs": [],
   "source": [
    "import numpy as np\n",
    "import matplotlib.pyplot as plt\n",
    "%matplotlib inline \n",
    "import requests"
   ]
  },
  {
   "cell_type": "code",
   "execution_count": 2,
   "metadata": {},
   "outputs": [
    {
     "data": {
      "text/html": [
       "<style>.container { max-width:100% !important; }</style>"
      ],
      "text/plain": [
       "<IPython.core.display.HTML object>"
      ]
     },
     "metadata": {},
     "output_type": "display_data"
    }
   ],
   "source": [
    "from IPython.display import display, HTML\n",
    "display(HTML(\"<style>.container { max-width:100% !important; }</style>\"))"
   ]
  },
  {
   "cell_type": "code",
   "execution_count": 3,
   "metadata": {},
   "outputs": [
    {
     "data": {
      "text/plain": [
       "1403"
      ]
     },
     "execution_count": 3,
     "metadata": {},
     "output_type": "execute_result"
    }
   ],
   "source": [
    "base_url = 'https://api.binance.com' \n",
    "def get_base_currencies():\n",
    "    endpoint = '/api/v3/exchangeInfo'\n",
    "    url = base_url + endpoint\n",
    "    response = requests.get(url)\n",
    "\n",
    "    if response.status_code == 200:\n",
    "        exchange_info = response.json()\n",
    "        symbols = exchange_info['symbols']\n",
    "        tradeable = list()\n",
    "        base_currencies = set()\n",
    "        for symbol in symbols:\n",
    "            if symbol[\"status\"]=='TRADING' and symbol[\"isSpotTradingAllowed\"]:\n",
    "                base_currencies.add(symbol['baseAsset'])\n",
    "                tradeable.append(symbol)\n",
    "\n",
    "        return sorted(list(base_currencies)),symbols,tradeable\n",
    "    else:\n",
    "        print(f'Error: {response.status_code}')\n",
    "        return None,symbols,tradeable\n",
    "\n",
    "base_currencies,symbols,tradeable = get_base_currencies()\n",
    "#print(base_currencies)\n",
    "tradeable_tickers = [tt[\"symbol\"] for tt in tradeable]\n",
    "len(tradeable_tickers)"
   ]
  },
  {
   "cell_type": "code",
   "execution_count": 4,
   "metadata": {
    "scrolled": true
   },
   "outputs": [
    {
     "name": "stdout",
     "output_type": "stream",
     "text": [
      "1403 ['ETHBTC', 'LTCBTC', 'BNBBTC', 'NEOBTC', 'QTUMETH', 'EOSETH', 'SNTETH', 'BNTETH', 'GASBTC', 'BNBETH']\n"
     ]
    }
   ],
   "source": [
    "print(len(tradeable_tickers),tradeable_tickers[:10])"
   ]
  },
  {
   "cell_type": "code",
   "execution_count": 5,
   "metadata": {},
   "outputs": [
    {
     "name": "stdout",
     "output_type": "stream",
     "text": [
      "all pairs 2203\n",
      "spot tradeable pairs 1403\n",
      "with base pairs 819\n"
     ]
    }
   ],
   "source": [
    "\n",
    "basetickers = [\"USDT\",\"ETH\",\"BTC\",\"BNB\",\"LTC\"]\n",
    "def get_high_volume_trading_pairs():\n",
    "    endpoint = '/api/v3/ticker/24hr'\n",
    "    url = base_url + endpoint\n",
    "    response = requests.get(url)\n",
    "\n",
    "    if response.status_code == 200:\n",
    "        trading_pairs_data = response.json()\n",
    "        trading_pairs = sorted(trading_pairs_data, key=lambda x: float(x['quoteVolume']), reverse=True)\n",
    "        print(\"all pairs\",len(trading_pairs))\n",
    "        trading_pairs = [sp for sp in trading_pairs if sp[\"symbol\"] in tradeable_tickers]\n",
    "        print(\"spot tradeable pairs\",len(trading_pairs))\n",
    "        trading_pairs = [sp for sp in trading_pairs if any(sp[\"symbol\"].endswith(bt) for bt in basetickers)]\n",
    "        print(\"with base pairs\",len(trading_pairs))\n",
    "        high_volume_pairs = []\n",
    "        for pair in trading_pairs[:10]:\n",
    "            high_volume_pairs.append({\n",
    "                'symbol': pair['symbol'],\n",
    "                'quote_volume': float(pair['quoteVolume'])\n",
    "            })\n",
    "\n",
    "        return high_volume_pairs,trading_pairs\n",
    "    else:\n",
    "        print(f'Error: {response.status_code}')\n",
    "        return None,trading_pairs\n",
    "\n",
    "high_volume_trading_pairs,trading_pairs = get_high_volume_trading_pairs() "
   ]
  },
  {
   "cell_type": "markdown",
   "metadata": {},
   "source": [
    "# saving the list of trading pairs"
   ]
  },
  {
   "cell_type": "code",
   "execution_count": 30,
   "metadata": {},
   "outputs": [],
   "source": [
    "import pickle\n",
    "with open('trading_pairs.pkl', 'wb') as f:  # open a text file\n",
    "    pickle.dump(trading_pairs, f)\n",
    "# with open('trading_pairs.pkl', 'rb') as f:\n",
    "#     trading_pairs = pickle.load(f)"
   ]
  },
  {
   "cell_type": "code",
   "execution_count": 88,
   "metadata": {},
   "outputs": [],
   "source": [
    "import requests\n",
    "import csv\n",
    "from datetime import datetime\n",
    "from pathlib import Path\n",
    "from os.path import exists\n",
    "import time\n",
    "base_url = 'https://api.binance.com' \n",
    "def get_klines(symbol, interval='1h', start_time=None, end_time=None, limit=500):\n",
    "    endpoint = '/api/v3/klines'\n",
    "    url = base_url + endpoint\n",
    "    params = {'symbol': symbol,'interval': interval,'limit': limit}\n",
    "    if start_time:\n",
    "        params['startTime'] = start_time\n",
    "    if end_time:\n",
    "        params['endTime'] = end_time\n",
    "    response = requests.get(url, params=params)\n",
    "    if response.status_code == 200:\n",
    "        klines_data = response.json()\n",
    "        klines = []\n",
    "        for kline in klines_data:\n",
    "            klines.append({\n",
    "                'open_time': kline[0],\n",
    "                'open': float(kline[1]),\n",
    "                'high': float(kline[2]),\n",
    "                'low': float(kline[3]),\n",
    "                'close': float(kline[4]),\n",
    "                'volume': float(kline[5]),\n",
    "                'close_time': kline[6],\n",
    "                'quote_asset_volume': float(kline[7]),\n",
    "                'number_of_trades': kline[8],\n",
    "                'taker_buy_base_asset_volume': float(kline[9]),\n",
    "                'taker_buy_quote_asset_volume': float(kline[10]),\n",
    "                'ignore': kline[11]\n",
    "            })\n",
    "\n",
    "        return klines\n",
    "    else:\n",
    "        print(f'Error: {response.status_code}',end=\"\")\n",
    "        return None\n",
    "\n",
    "def save_klines_to_csv(klines, filename,data_folder):\n",
    "    Path(data_folder).mkdir(parents=True, exist_ok=True)\n",
    "    fieldnames = [\n",
    "        'open_time', 'open', 'high', 'low', 'close', 'volume',\n",
    "        'close_time', 'quote_asset_volume', 'number_of_trades',\n",
    "        'taker_buy_base_asset_volume', 'taker_buy_quote_asset_volume', 'ignore'\n",
    "    ]\n",
    "\n",
    "    with open(data_folder+filename, mode='w', newline='') as csvfile:\n",
    "        writer = csv.DictWriter(csvfile, fieldnames=fieldnames)\n",
    "        writer.writeheader()\n",
    "        for kline in klines:\n",
    "            writer.writerow(kline)\n",
    "def doesFileExist(filename,data_folder):\n",
    "    return exists(data_folder+filename)\n",
    "def download_klines_yearly(symbol, interval='1h', start_year=2018,data_folder=None):\n",
    "    current_year = datetime.now().year\n",
    "    ms_per_year = 31536000 * 1000\n",
    "    for year in range(start_year, current_year + 1):\n",
    "        filename = f'{symbol}_{year}_{interval}.csv'\n",
    "        if doesFileExist(filename,data_folder) and current_year!=year:\n",
    "            continue\n",
    "        start_time = int(datetime(year, 1, 1).timestamp() * 1000)\n",
    "        end_time = int(start_time + ms_per_year)\n",
    "        klines = []\n",
    "        last_fetched_time = start_time\n",
    "        counts=0\n",
    "        while last_fetched_time < end_time:\n",
    "            fetched_klines = get_klines(symbol, interval, start_time=last_fetched_time, limit=1000)\n",
    "            if counts%50==0 and counts//50>0:\n",
    "                print(counts//50,end=\"\")\n",
    "            if counts%15==0 and counts//15>0:\n",
    "                time.sleep(2)\n",
    "            counts+=1\n",
    "            if (not fetched_klines) or len(fetched_klines)==0:\n",
    "                break\n",
    "            #print(fetched_klines) \n",
    "            new_fetched_time = fetched_klines[-1]['open_time']\n",
    "            if last_fetched_time==new_fetched_time:\n",
    "                break\n",
    "            last_fetched_time = new_fetched_time\n",
    "            klines.extend(fetched_klines)\n",
    "        if len(klines)>0:\n",
    "            save_klines_to_csv(klines, filename ,data_folder)\n",
    "            time.sleep(2)\n",
    "            print(\"\",end=\" \")"
   ]
  },
  {
   "cell_type": "markdown",
   "metadata": {},
   "source": [
    "## sample run"
   ]
  },
  {
   "cell_type": "code",
   "execution_count": 60,
   "metadata": {},
   "outputs": [],
   "source": [
    "symbol = 'BTCUSDT'\n",
    "data_folder=f\"kline_data/{symbol}/\"\n",
    "interval = '1h'\n",
    "download_klines_yearly(symbol, interval,data_folder=data_folder)"
   ]
  },
  {
   "cell_type": "markdown",
   "metadata": {},
   "source": [
    "## large run, run for all intervals >= 2h"
   ]
  },
  {
   "cell_type": "code",
   "execution_count": 90,
   "metadata": {},
   "outputs": [],
   "source": [
    "intervals=['1m','3m','5m','15m','30m','1h','2h','4h','6h','8h','12h','1d','3d','1w','1M']\n",
    "#intervals=['12h','1d','3d','1w','1M']\n",
    "#intervals=['5m','15m','30m','1h','2h','4h','6h','8h','12h','1d','3d','1w','1M']\n",
    "#intervals=['5m']\n",
    "#intervals=['1m','3m']"
   ]
  },
  {
   "cell_type": "code",
   "execution_count": 87,
   "metadata": {},
   "outputs": [
    {
     "name": "stdout",
     "output_type": "stream",
     "text": [
      "3m\n",
      " 0/819BTCUSDT 123 123 123 123 123 1  1/819EDUUSDT        2/819ETHUSDT 123 123 123 123 123 1  3/819USDCUSDT  123 123 123 12   4/819BUSDUSDT   123 123 123 1  5/819XRPUSDT 12 123 123 123 123 1  6/819SOLUSDT   1 123 123 1  7/819BNBUSDT 123 123 123 123 123 1  8/819ARBUSDT        9/819ALPHAUSDT    123 123 1  10/819IDUSDT        11/819CFXUSDT    12 123 1  12/819TUSDUSDT 12 123 123 123 12   13/819RNDRUSDT     123 1  14/819APTUSDT      1  15/819INJUSDT    123 123 1  16/819DOGEUSDT  1 123 123 123 1  17/819MATICUSDT  12 123 123 123 1  18/819LTCUSDT 123 123 123 123 123 1  19/819RADUSDT     123 1  20/819ICPUSDT    12 123 1  21/819EURUSDT   123 123 123 1  22/819FILUSDT    123 123 1  23/819LINAUSDT    12 123 1  24/819LINKUSDT  123 123 123 123 1  25/819FTMUSDT  1 123 123 123 1  26/819DYDXUSDT    1 123 1  27/819ADAUSDT 12 123 123 123 123 1  28/819WOOUSDT     123 1  29/819TRXUSDT 1 123 123 123 123 1  30/819ATOMUSDT  12 123 123 123 1  31/819HOOKUSDT      1  32/819OGUSDT    123 123 1  33/819RDNTUSDT        34/819DOTUSDT   1 123 123 1  35/819GALAUSDT    1 123 1  36/819COCOSUSDT  1 123 123 123 1  37/819LUNAUSDT   1 123 123 1  38/819LUNCUSDT     1 1  39/819JASMYUSDT     123 1  40/819AVAXUSDT    123 123 1  41/819OPUSDT     12 1  42/819TOMOUSDT  1 123 123 123 1  43/819CAKEUSDT    123 123 1  44/819USTCUSDT        45/819EGLDUSDT   1 123 123 1  46/819IDEXUSDT    1 123 1  47/819FETUSDT  12 123 123 123 1  48/819SHIBUSDT    12 123 1  49/819GMTUSDT     12 1 \n",
      "1m\n",
      " 0/819BTCUSDT 123  1/819EDUUSDT   2/819ETHUSDT 123  3/819USDCUSDT 1  4/819BUSDUSDT 123  5/819XRPUSDT 123  6/819SOLUSDT 123  7/819BNBUSDT 123  8/819ARBUSDT 1  9/819ALPHAUSDT 123  10/819IDUSDT 1  11/819CFXUSDT 123  12/819TUSDUSDT 1  13/819RNDRUSDT 123  14/819APTUSDT 123  15/819INJUSDT 123  16/819DOGEUSDT 123  17/819MATICUSDT 123  18/819LTCUSDT 123  19/819RADUSDT 123  20/819ICPUSDT 123  21/819EURUSDT 123  22/819FILUSDT 123  23/819LINAUSDT 123  24/819LINKUSDT 123  25/819FTMUSDT 123  26/819DYDXUSDT 123  27/819ADAUSDT 123  28/819WOOUSDT 123  29/819TRXUSDT 123  30/819ATOMUSDT 123  31/819HOOKUSDT 123  32/819OGUSDT 123  33/819RDNTUSDT   34/819DOTUSDT 123  35/819GALAUSDT 123  36/819COCOSUSDT 123  37/819LUNAUSDT 123  38/819LUNCUSDT 123  39/819JASMYUSDT 123  40/819AVAXUSDT 123  41/819OPUSDT 123  42/819TOMOUSDT 123  43/819CAKEUSDT 123  44/819USTCUSDT 1  45/819EGLDUSDT 123  46/819IDEXUSDT 123  47/819FETUSDT 123  48/819SHIBUSDT 123  49/819GMTUSDT 123 \n",
      "CPU times: total: 3h 20min 11s\n",
      "Wall time: 6h 39min 38s\n"
     ]
    }
   ],
   "source": [
    "%%time\n",
    "for interval in intervals[::-1]:\n",
    "    print(interval)\n",
    "    for i,sp in list(enumerate(trading_pairs[50:250])):\n",
    "        symbol = sp[\"symbol\"]\n",
    "        data_folder=f\"kline_data/{symbol}/\"\n",
    "        print(f\" {i}/{len(trading_pairs)}{symbol}\",end=\" \")\n",
    "        download_klines_yearly(symbol, interval,data_folder=data_folder)\n",
    "    print(\"\")"
   ]
  },
  {
   "cell_type": "code",
   "execution_count": null,
   "metadata": {},
   "outputs": [],
   "source": []
  }
 ],
 "metadata": {
  "kernelspec": {
   "display_name": "Python 3 (ipykernel)",
   "language": "python",
   "name": "python3"
  },
  "language_info": {
   "codemirror_mode": {
    "name": "ipython",
    "version": 3
   },
   "file_extension": ".py",
   "mimetype": "text/x-python",
   "name": "python",
   "nbconvert_exporter": "python",
   "pygments_lexer": "ipython3",
   "version": "3.11.3"
  }
 },
 "nbformat": 4,
 "nbformat_minor": 2
}
